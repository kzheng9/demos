{
 "cells": [
  {
   "cell_type": "markdown",
   "metadata": {},
   "source": [
    "# 1D Waves in C and Python\n",
    "\n",
    "In this notebook and associated example, we have three goals:\n",
    "\n",
    "1.  We want to show how to discretize a 1D wave equation with finite differences\n",
    "2.  We want to show off how to interface C to Python using Cython\n",
    "3.  We want to illustrate how to use Python for animations\n",
    "\n",
    "We begin by importing several Python modules.  The last of these, the `waves` module,\n",
    "is a code that we wrote ourselves.  This is based on the `_waves.pyx` interface file that\n",
    "creates a Python-to-C interface to the `time_step` function in `waves.c`."
   ]
  },
  {
   "cell_type": "code",
   "execution_count": null,
   "metadata": {},
   "outputs": [],
   "source": [
    "import numpy as np\n",
    "import matplotlib.pyplot as plt\n",
    "import matplotlib.animation as animation\n",
    "from IPython.display import HTML\n",
    "import waves"
   ]
  },
  {
   "cell_type": "markdown",
   "metadata": {},
   "source": [
    "Once we have imported the waves package, we can run our 1D wave simulation.  The time stepper takes in two consecutive steps and produces the solution vector at the next time step; we only record every tenth step.  We reserve the two end points for boundary values in each array (the first argument `b` to the time step function tells us how many time steps we need).  We set up initial conditions consistent with a Gaussian pulse moving to the right at the wave speed; if we've done things right, it should move right, reflect off the right boundary, and then traverse the domain and reflect off the left boundary.  We only record once every ten time steps.  We might be tempted to record more, but it's already slow enough to generate the movie without recording ten times as many frames!  We can't make our time step much larger without generating the stability condition (also called the CFL condition)."
   ]
  },
  {
   "cell_type": "code",
   "execution_count": null,
   "metadata": {},
   "outputs": [],
   "source": [
    "# Set up an n-point uniform mesh\n",
    "n = 1000\n",
    "dx = 1.0/(n-1)\n",
    "x0 = np.linspace(0.0,1.0,n)\n",
    "\n",
    "# Speed of sound, space step, time step\n",
    "c = 1.0\n",
    "dt = 5e-4\n",
    "\n",
    "# Sanity check the physical constants\n",
    "C = c*dt/dx\n",
    "print(\"CFL constant is {0} (should be < 1 for stability)\".format(C))\n",
    "\n",
    "# Set up initial conditions\n",
    "u0 = np.exp(-(5*(x0-0.5))**2)\n",
    "u1 = np.exp(-(5*(x0-0.5-c*dt))**2)\n",
    "a = []\n",
    "\n",
    "# Space for time steps\n",
    "for i in range(5000):\n",
    "    u2 = np.zeros(n, dtype=np.double)\n",
    "    waves.time_step_func(1, u0, u1, u2, c, dx, dt)\n",
    "    if i % 10 == 0:\n",
    "        a.append(u2)\n",
    "    u0 = u1\n",
    "    u1 = u2"
   ]
  },
  {
   "cell_type": "markdown",
   "metadata": {},
   "source": [
    "Once we have computed the solution, it's time for a plot.  We use the animate functionality in matplotlib, together with the ability for Jupyter to create Javascript-based animations."
   ]
  },
  {
   "cell_type": "code",
   "execution_count": null,
   "metadata": {},
   "outputs": [],
   "source": [
    "plt.style.use('dark_background')\n",
    "\n",
    "fig = plt.figure()\n",
    "fig.set_dpi(100)\n",
    "ax1 = fig.add_subplot(1,1,1)\n",
    "k = 0\n",
    "\n",
    "def animate(i):\n",
    "    global k\n",
    "    x = a[k]\n",
    "    k += 1\n",
    "    ax1.clear()\n",
    "    plt.plot(x0,x,color='cyan')\n",
    "    #plt.grid(True)\n",
    "    plt.ylim([-2,2])\n",
    "    plt.xlim([0.0,1.0])\n",
    "    \n",
    "anim = animation.FuncAnimation(fig,animate,frames=360,interval=20)\n",
    "HTML(anim.to_jshtml())"
   ]
  },
  {
   "cell_type": "markdown",
   "metadata": {},
   "source": [
    "## Exercises\n",
    "\n",
    "1.  For the numerically inclined: look at `waves.c` and convince yourself that this actually does implement one step of a finite difference scheme where we have used second-order finite difference stencils for both the space and time derivatives.\n",
    "1.  Re-run the code above with a time step that slightly violates the CFL condition (say `dt = 1.2e-3`).  What happens?\n",
    "2.  Re-write the code to split the domain in half, each represented in separate arrays, and advance each half independently by 10 steps at a time (as one might do with message passing parallelism).  This does not require changing the C time stepping routine, but it will require keeping extra \"ghost cells\" for each of the two halves of the domain, and copying data back and forth between them."
   ]
  }
 ],
 "metadata": {
  "kernelspec": {
   "display_name": "Python 3",
   "language": "python",
   "name": "python3"
  },
  "language_info": {
   "codemirror_mode": {
    "name": "ipython",
    "version": 3
   },
   "file_extension": ".py",
   "mimetype": "text/x-python",
   "name": "python",
   "nbconvert_exporter": "python",
   "pygments_lexer": "ipython3"
  }
 },
 "nbformat": 4,
 "nbformat_minor": 4
}
